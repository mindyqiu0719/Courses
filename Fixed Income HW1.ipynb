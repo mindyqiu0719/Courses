{
 "cells": [
  {
   "cell_type": "markdown",
   "id": "2dcbeacc",
   "metadata": {},
   "source": [
    "# Fixed Income HW1"
   ]
  },
  {
   "cell_type": "code",
   "execution_count": 6,
   "id": "9d0198a6",
   "metadata": {},
   "outputs": [],
   "source": [
    "import pandas as pd\n",
    "from sympy import symbols, solve\n",
    "import numpy as np\n",
    "import warnings\n",
    "\n",
    "warnings.simplefilter(action='ignore', category=FutureWarning)"
   ]
  },
  {
   "cell_type": "markdown",
   "id": "1508c168",
   "metadata": {},
   "source": [
    "1. Solve for the price of a Treasury bond with a coupon rate of 10 percent and a maturity date of 25 years. The yield on the bond is 2 percent.\n",
    "\n",
    "To solve for the price of a Treasury bond with a coupon rate of 10 percent, a maturity date of 25 years, and a yield of 2 percent, we can use\n",
    "$$\n",
    "Price = \\frac{C}{r} * (1 - (1 / (1 + r)^{n})) + \\frac{F}{(1 + r)^{n}}\n",
    "$$\n",
    "\n",
    "Where:\n",
    "\n",
    "C = 0.1 * F, the annual coupon payment\n",
    "r = 0.02, the annual interest rate or yield\n",
    "n = 25, the number of periods or maturity date\n",
    "F = 100, the face value or future value of the bond\n",
    "\n",
    "Plugging in the given values:\n",
    "$$\n",
    "Price = \\frac{0.1*1000}{0.02} * (1 - (1 / (1 + \\frac{0.02}{2})^{50})) + \\frac{100}{(1 + \\frac{0.02}{2})^{50}}=256.78\n",
    "$$\n",
    "\n",
    "So, the price of a Treasury bond with a coupon rate of 10 percent, a maturity date of 25 years and a yield of 2 percent is $256.78"
   ]
  },
  {
   "cell_type": "code",
   "execution_count": 10,
   "id": "1ba8c21c",
   "metadata": {},
   "outputs": [
    {
     "data": {
      "text/plain": [
       "256.78"
      ]
     },
     "execution_count": 10,
     "metadata": {},
     "output_type": "execute_result"
    }
   ],
   "source": [
    "c = 0.1\n",
    "y = 0.02\n",
    "T = 25\n",
    "pv = (c * 100 / 2) / (y / 2) * (1 - 1 / (1 + y / 2) ** (2 * T)) + 100 / (1 + y / 2) ** 50\n",
    "round(pv, 2)"
   ]
  },
  {
   "cell_type": "markdown",
   "id": "f5559cd7",
   "metadata": {},
   "source": [
    "2. You could make a $25,000 savings deposit at First National Bank for 4 percent compounded annually, or at Off-Shore Financing Bank for 4 percent compounded monthly. how much would you have under either financing alternative after 10 years?\n",
    "\n"
   ]
  },
  {
   "cell_type": "code",
   "execution_count": 2,
   "id": "e9d7195f",
   "metadata": {},
   "outputs": [
    {
     "name": "stdout",
     "output_type": "stream",
     "text": [
      "37006.11 37270.82\n"
     ]
    }
   ],
   "source": [
    "fv1 = 25000 * (1 + 0.04) ** 10\n",
    "fv2 = 25000 * (1 + 0.04 / 12) ** (10 * 12)\n",
    "print(round(fv1, 2),round(fv2, 2))"
   ]
  },
  {
   "cell_type": "markdown",
   "id": "19952bfd",
   "metadata": {},
   "source": [
    "3. You have sold a piece of land on contract for which you will receive \\$180,000 down and payments of \\\\$7,000 per month for 20 years (240 months). If you place all the proceeds of this transaction into a savings account to earn 5.5 percent compounded monthly, how much will you have accumulated in 20 years when the loan is paid off? The first payment will arrive to you at the end of the first month."
   ]
  },
  {
   "cell_type": "code",
   "execution_count": 4,
   "id": "f839225e",
   "metadata": {},
   "outputs": [
    {
     "data": {
      "text/plain": [
       "3588784.37"
      ]
     },
     "execution_count": 4,
     "metadata": {},
     "output_type": "execute_result"
    }
   ],
   "source": [
    "fv = (180000 + 7000 / (0.055 / 12) * (1 - 1 / (1 + 0.055 / 12) ** (12 * 20))) * (1 + 0.055 / 12) ** (\n",
    "        12 * 20)\n",
    "round(fv, 2)"
   ]
  },
  {
   "cell_type": "markdown",
   "id": "f7b1ffe8",
   "metadata": {},
   "source": [
    "4. After graduating, you want to buy an EV Ferrari from a local dealer. It costs only \\\\$513,000 and you decide to finance the purchase. But after contacting your bank and finding that the interest rate for a loan on such a car is 15.75 percent, you are utterly dismayed. So as you stop off at the dealer to tell him that you can’t go through with the purchase and just want to take one last look, the dealer tells you that he will give you a loan with only a 4 percent interest rate. “Of course,” he explains, “we will have to charge you \\\\$575,000 for the car since we won’t be fully paid for three years. Your contract terms are 36 equal monthly payments plus a \\\\$125,000 down payment (this is true in either case). What is the effective cost of the installment loan?"
   ]
  },
  {
   "cell_type": "code",
   "execution_count": 5,
   "id": "a7dc9c05",
   "metadata": {},
   "outputs": [
    {
     "data": {
      "text/plain": [
       "548384.58"
      ]
     },
     "execution_count": 5,
     "metadata": {},
     "output_type": "execute_result"
    }
   ],
   "source": [
    "c = (575000 - 125000) / 36\n",
    "pv = c / (0.04 / 12) * (1 - 1 / (1 + 0.04 / 12) ** 36) + 125000\n",
    "round(pv, 2)"
   ]
  },
  {
   "cell_type": "markdown",
   "id": "2ae9550d",
   "metadata": {},
   "source": [
    "5. In order to borrow \\\\$600,000 you must refinance an existing loan. The existing loan has an unpaid balance of \\\\$800,000, a contract interest rate of 9 percent, and payments of $7,197.81 per month for the next 20 years. The new loan will bear interest at 12 percent as will the rewritten old loan. The total principal will therefore be \\\\$1,400,000, have monthly payments of \\\\$15,415.21, and a maturity of 20 years. What is the effective net or marginal interest rate cost on the \\\\$600,000 borrowed at the present time?"
   ]
  },
  {
   "cell_type": "code",
   "execution_count": 6,
   "id": "09d194b8",
   "metadata": {},
   "outputs": [
    {
     "data": {
      "text/plain": [
       "'15.71%'"
      ]
     },
     "execution_count": 6,
     "metadata": {},
     "output_type": "execute_result"
    }
   ],
   "source": [
    "c = 15415.21 - 7197.81\n",
    "\n",
    "\n",
    "def func(r):\n",
    "    return 600000 - c / (r / 12) * (1 - 1 / (1 + r / 12) ** (12 * 20))\n",
    "\n",
    "\n",
    "res = func(0.12)\n",
    "rrange = [0.12, 0.2]\n",
    "\n",
    "while abs(res) >= 0.01:\n",
    "    r = np.mean(rrange)\n",
    "    res = func(r)\n",
    "    if res > 0:\n",
    "        rrange[1] = r\n",
    "    else:\n",
    "        rrange[0] = r\n",
    "f'{round(r * 100, 2)}%'"
   ]
  },
  {
   "cell_type": "markdown",
   "id": "9182bb0d",
   "metadata": {},
   "source": [
    "6. What initial monthly payment would be required on a graduated payment mortgage loan? The contract will provide that payments will grow every month at a two percent (per year) rate for the entire 30 years. The contract interest rate will be 6 percent and the loan principle is \\$1,000,000."
   ]
  },
  {
   "cell_type": "code",
   "execution_count": 7,
   "id": "27e0610f",
   "metadata": {},
   "outputs": [
    {
     "data": {
      "text/latex": [
       "$\\displaystyle 4778.27$"
      ],
      "text/plain": [
       "4778.27"
      ]
     },
     "execution_count": 7,
     "metadata": {},
     "output_type": "execute_result"
    }
   ],
   "source": [
    "c = symbols('c')\n",
    "c = solve(1e6 - c / (0.06 / 12 - 0.02 / 12) * (1 - (1 + 0.02 / 12) ** 360 / (1 + 0.06 / 12) ** 360), c)[0]\n",
    "round(c, 2)"
   ]
  },
  {
   "cell_type": "markdown",
   "id": "3f516c8d",
   "metadata": {},
   "source": [
    "7. For tax purposes, your lender sent you a year-end statement showing how much interest you paid last year but also showing that the unpaid balance on your loan is \\\\$104,138.70. You are wondering how much longer you must pay on the loan. The monthly payments are \\\\$5,000.00 and the contract interest rate is 14 percent."
   ]
  },
  {
   "cell_type": "code",
   "execution_count": 8,
   "id": "39042461",
   "metadata": {},
   "outputs": [
    {
     "data": {
      "text/plain": [
       "2.0"
      ]
     },
     "execution_count": 8,
     "metadata": {},
     "output_type": "execute_result"
    }
   ],
   "source": [
    "def func(T):\n",
    "    return 104138.70 - 5000 / (0.14 / 12) * (1 - 1 / (1 + 0.14 / 12) ** (T * 12))\n",
    "\n",
    "\n",
    "res = func(0)\n",
    "Trange = [0, 104138 / 5000]\n",
    "\n",
    "while abs(res) >= 0.01:\n",
    "    T = np.mean(Trange)\n",
    "    res = func(T)\n",
    "    if res > 0:\n",
    "        Trange[0] = T\n",
    "    else:\n",
    "        Trange[1] = T\n",
    "        \n",
    "round(T, 2)"
   ]
  },
  {
   "cell_type": "markdown",
   "id": "fe5ee45c",
   "metadata": {},
   "source": [
    "8. What would be the most you would be willing to pay for a share of preferred stock paying a semiannual coupon of \\\\$6.25. Assume that the discount rate is 7 percent."
   ]
  },
  {
   "cell_type": "code",
   "execution_count": 9,
   "id": "2e3425a1",
   "metadata": {},
   "outputs": [
    {
     "data": {
      "text/plain": [
       "178.57"
      ]
     },
     "execution_count": 9,
     "metadata": {},
     "output_type": "execute_result"
    }
   ],
   "source": [
    "p = 6.25 / (0.07 / 2)\n",
    "round(p, 2)"
   ]
  },
  {
   "cell_type": "markdown",
   "id": "079e6cfc",
   "metadata": {},
   "source": [
    "9. You are considering purchasing a share of common stock in an airline. The dividends on this common stock have been growing at a 3 percent rate for the past 20 years, and you expect this to continue indefinitely. Dividends are expected to be \\\\$10 per share at the end of the year ahead, and you think 12 percent is the appropriate rate of return on this stock. How much would you be willing to pay for this stock?"
   ]
  },
  {
   "cell_type": "code",
   "execution_count": 10,
   "id": "05adb01b",
   "metadata": {},
   "outputs": [
    {
     "data": {
      "text/plain": [
       "111.11"
      ]
     },
     "execution_count": 10,
     "metadata": {},
     "output_type": "execute_result"
    }
   ],
   "source": [
    "p = 10 / (0.12 - 0.03)\n",
    "round(p, 2)"
   ]
  },
  {
   "cell_type": "markdown",
   "id": "b179b24f",
   "metadata": {},
   "source": [
    "10. What is the present value of a stream of cash flows expected to grow at a 10 percent rate per year for 5 years and then remain constant thereafter until the final payment in 30 years. The payment the end of the first year is \\\\$1,000 and the discount rate is 3.50 percent.\n",
    "\n"
   ]
  },
  {
   "cell_type": "code",
   "execution_count": 1,
   "id": "a32a1ac8",
   "metadata": {},
   "outputs": [
    {
     "data": {
      "text/plain": [
       "27826.05"
      ]
     },
     "execution_count": 1,
     "metadata": {},
     "output_type": "execute_result"
    }
   ],
   "source": [
    "pv = 1000 / (0.035 - 0.1) * (1 - (1 + 0.1) ** 5 / (1 + 0.035) ** 5) + (\n",
    "            1000 * (1 + 0.1) ** 5 / 0.035 * (1 - 1 / (1 + 0.035) ** 25)) / (1 + 0.035) ** 5\n",
    "round(pv, 2)"
   ]
  },
  {
   "cell_type": "markdown",
   "id": "d82489a6",
   "metadata": {},
   "source": [
    "## Case\n",
    "As clients are increasingly concerned about the size of their portfolio allocations to fixed income\n",
    "given market fears about rising interest rates, we have decided to take a trading strategy that\n",
    "includes offsetting long/short positions. To do this, we have used the data provided in the Excel\n",
    "spreadsheet, to match the Treasuries that include coupon payments, with Stripped Coupon and\n",
    "Stripped Principal bonds, similar to the Triplets example given in the first class lecture slides. We\n",
    "utilized the given Ask Yield To Maturity to discount the Stripped Coupon and Stripped Principal\n",
    "bonds to their present values, and added these present values to see if there exists an arbitrage in\n",
    "the market compared to the Treasuries, and have run code to show the given arbitrage and the\n",
    "alpha that this arbitrage can produce for clients. We are able to long the undervalued\n",
    "combination, be that the combination of the Stripped Coupon and Stripped Principal bonds, or\n",
    "the Treasuries, and short the overvalued combination to provide our clients both with alpha, and\n",
    "long/short positions in the market to combat potential interest rate risk."
   ]
  },
  {
   "cell_type": "code",
   "execution_count": 3,
   "id": "31f6e295",
   "metadata": {},
   "outputs": [],
   "source": [
    "# Treasury Triplets\n",
    "data = pd.read_excel('Homework_1_Case_Data.xlsx', sheet_name=None)\n",
    "\n",
    "sc = data['Stripped_Coupon'][['Maturity', 'Ask Price', 'Ask Yield to Maturity', 'Issue Date']]\n",
    "sp = data['Stripped_Principal'][['Maturity', 'Ask Price', 'Ask Yield to Maturity', 'Issue Date']]\n",
    "df = sc.merge(sp, how='outer', on=['Maturity', 'Issue Date'])\n",
    "df['Ask Price diff'] = df['Ask Price_x'] - df['Ask Price_y']\n",
    "df['Ask Yield to Maturity diff'] = df['Ask Yield to Maturity_x'] - df['Ask Yield to Maturity_y']\n",
    "\n",
    "data_date = pd.to_datetime('2022-09-27')\n",
    "t_df = data['Treasuries'].iloc[:, :-2]\n",
    "t_df = t_df[t_df.duplicated(['Maturity']) | t_df.duplicated(['Maturity']).shift(-1)]\n",
    "c = t_df.duplicated(['Maturity']) & t_df.duplicated(['Maturity']).shift()\n",
    "t_df = t_df[c | c.shift(-1) | c.shift(-2)]\n",
    "\n",
    "t_df['Maturity'] = pd.to_datetime(t_df['Maturity'])\n",
    "t_df['Acrued days'] = [182 - (x - data_date).days % 182 for x in t_df['Maturity']]\n",
    "t_df['Acrued Interest'] = t_df['Acrued days'] / 182 * t_df['Coupon'] / 200\n",
    "t_df['Full price'] = t_df['Acrued Interest'] + t_df['Ask Price']\n",
    "\n",
    "res_all=[]\n",
    "for i in range(int(len(t_df) / 3)):\n",
    "    eg_df = t_df.iloc[3 * i:3 * (i + 1), ]\n",
    "    c1, c2, c3 = eg_df['Coupon'].iloc[0], eg_df['Coupon'].iloc[1], eg_df['Coupon'].iloc[2]\n",
    "    p1, p2, p3 = eg_df['Full price'].iloc[0], eg_df['Full price'].iloc[1], eg_df['Full price'].iloc[2]\n",
    "    a = (c2 - c3) / (c1 - c3)\n",
    "    mis_p = a * p1 + (1 - a) * p3 - p2\n",
    "    res=[eg_df['Maturity'].drop_duplicates().iloc[0],a,mis_p]\n",
    "    res_all.append(res)\n",
    "\n",
    "res_df=pd.DataFrame(res_all,columns=['maturity','alpha','misprice'])\n",
    "res_df.sort_values('misprice',inplace=True)\n"
   ]
  },
  {
   "cell_type": "code",
   "execution_count": 4,
   "id": "1e7a220a",
   "metadata": {},
   "outputs": [
    {
     "data": {
      "text/html": [
       "<div>\n",
       "<style scoped>\n",
       "    .dataframe tbody tr th:only-of-type {\n",
       "        vertical-align: middle;\n",
       "    }\n",
       "\n",
       "    .dataframe tbody tr th {\n",
       "        vertical-align: top;\n",
       "    }\n",
       "\n",
       "    .dataframe thead th {\n",
       "        text-align: right;\n",
       "    }\n",
       "</style>\n",
       "<table border=\"1\" class=\"dataframe\">\n",
       "  <thead>\n",
       "    <tr style=\"text-align: right;\">\n",
       "      <th></th>\n",
       "      <th>maturity</th>\n",
       "      <th>alpha</th>\n",
       "      <th>misprice</th>\n",
       "    </tr>\n",
       "  </thead>\n",
       "  <tbody>\n",
       "    <tr>\n",
       "      <th>9</th>\n",
       "      <td>2023-08-31</td>\n",
       "      <td>0.523810</td>\n",
       "      <td>-3.701637e-02</td>\n",
       "    </tr>\n",
       "    <tr>\n",
       "      <th>2</th>\n",
       "      <td>2023-01-31</td>\n",
       "      <td>0.277778</td>\n",
       "      <td>-2.734375e-02</td>\n",
       "    </tr>\n",
       "    <tr>\n",
       "      <th>1</th>\n",
       "      <td>2022-10-31</td>\n",
       "      <td>0.066667</td>\n",
       "      <td>-2.656250e-02</td>\n",
       "    </tr>\n",
       "    <tr>\n",
       "      <th>14</th>\n",
       "      <td>2024-01-31</td>\n",
       "      <td>0.153846</td>\n",
       "      <td>-2.614183e-02</td>\n",
       "    </tr>\n",
       "    <tr>\n",
       "      <th>6</th>\n",
       "      <td>2023-05-31</td>\n",
       "      <td>0.428571</td>\n",
       "      <td>-2.008929e-02</td>\n",
       "    </tr>\n",
       "    <tr>\n",
       "      <th>16</th>\n",
       "      <td>2024-04-30</td>\n",
       "      <td>0.500000</td>\n",
       "      <td>-1.367188e-02</td>\n",
       "    </tr>\n",
       "    <tr>\n",
       "      <th>8</th>\n",
       "      <td>2023-07-31</td>\n",
       "      <td>0.571429</td>\n",
       "      <td>-1.674107e-03</td>\n",
       "    </tr>\n",
       "    <tr>\n",
       "      <th>0</th>\n",
       "      <td>2022-09-30</td>\n",
       "      <td>0.071429</td>\n",
       "      <td>-8.370536e-04</td>\n",
       "    </tr>\n",
       "    <tr>\n",
       "      <th>18</th>\n",
       "      <td>2024-07-31</td>\n",
       "      <td>0.700000</td>\n",
       "      <td>-7.812500e-04</td>\n",
       "    </tr>\n",
       "    <tr>\n",
       "      <th>13</th>\n",
       "      <td>2023-12-31</td>\n",
       "      <td>0.200000</td>\n",
       "      <td>1.421085e-14</td>\n",
       "    </tr>\n",
       "    <tr>\n",
       "      <th>15</th>\n",
       "      <td>2024-02-29</td>\n",
       "      <td>0.285714</td>\n",
       "      <td>3.906250e-03</td>\n",
       "    </tr>\n",
       "    <tr>\n",
       "      <th>20</th>\n",
       "      <td>2024-09-30</td>\n",
       "      <td>0.772727</td>\n",
       "      <td>6.036932e-03</td>\n",
       "    </tr>\n",
       "    <tr>\n",
       "      <th>12</th>\n",
       "      <td>2023-11-30</td>\n",
       "      <td>0.315789</td>\n",
       "      <td>7.195724e-03</td>\n",
       "    </tr>\n",
       "    <tr>\n",
       "      <th>17</th>\n",
       "      <td>2024-06-30</td>\n",
       "      <td>0.800000</td>\n",
       "      <td>7.812500e-03</td>\n",
       "    </tr>\n",
       "    <tr>\n",
       "      <th>3</th>\n",
       "      <td>2023-02-28</td>\n",
       "      <td>0.450000</td>\n",
       "      <td>9.375000e-03</td>\n",
       "    </tr>\n",
       "    <tr>\n",
       "      <th>19</th>\n",
       "      <td>2024-08-31</td>\n",
       "      <td>0.687500</td>\n",
       "      <td>1.196289e-02</td>\n",
       "    </tr>\n",
       "    <tr>\n",
       "      <th>5</th>\n",
       "      <td>2023-04-30</td>\n",
       "      <td>0.428571</td>\n",
       "      <td>2.120536e-02</td>\n",
       "    </tr>\n",
       "    <tr>\n",
       "      <th>7</th>\n",
       "      <td>2023-06-30</td>\n",
       "      <td>0.500000</td>\n",
       "      <td>2.148438e-02</td>\n",
       "    </tr>\n",
       "    <tr>\n",
       "      <th>10</th>\n",
       "      <td>2023-09-30</td>\n",
       "      <td>0.571429</td>\n",
       "      <td>2.455357e-02</td>\n",
       "    </tr>\n",
       "    <tr>\n",
       "      <th>4</th>\n",
       "      <td>2023-03-31</td>\n",
       "      <td>0.421053</td>\n",
       "      <td>2.857730e-02</td>\n",
       "    </tr>\n",
       "    <tr>\n",
       "      <th>11</th>\n",
       "      <td>2023-10-31</td>\n",
       "      <td>0.500000</td>\n",
       "      <td>4.101562e-02</td>\n",
       "    </tr>\n",
       "  </tbody>\n",
       "</table>\n",
       "</div>"
      ],
      "text/plain": [
       "     maturity     alpha      misprice\n",
       "9  2023-08-31  0.523810 -3.701637e-02\n",
       "2  2023-01-31  0.277778 -2.734375e-02\n",
       "1  2022-10-31  0.066667 -2.656250e-02\n",
       "14 2024-01-31  0.153846 -2.614183e-02\n",
       "6  2023-05-31  0.428571 -2.008929e-02\n",
       "16 2024-04-30  0.500000 -1.367188e-02\n",
       "8  2023-07-31  0.571429 -1.674107e-03\n",
       "0  2022-09-30  0.071429 -8.370536e-04\n",
       "18 2024-07-31  0.700000 -7.812500e-04\n",
       "13 2023-12-31  0.200000  1.421085e-14\n",
       "15 2024-02-29  0.285714  3.906250e-03\n",
       "20 2024-09-30  0.772727  6.036932e-03\n",
       "12 2023-11-30  0.315789  7.195724e-03\n",
       "17 2024-06-30  0.800000  7.812500e-03\n",
       "3  2023-02-28  0.450000  9.375000e-03\n",
       "19 2024-08-31  0.687500  1.196289e-02\n",
       "5  2023-04-30  0.428571  2.120536e-02\n",
       "7  2023-06-30  0.500000  2.148438e-02\n",
       "10 2023-09-30  0.571429  2.455357e-02\n",
       "4  2023-03-31  0.421053  2.857730e-02\n",
       "11 2023-10-31  0.500000  4.101562e-02"
      ]
     },
     "execution_count": 4,
     "metadata": {},
     "output_type": "execute_result"
    }
   ],
   "source": [
    "res_df"
   ]
  },
  {
   "cell_type": "code",
   "execution_count": null,
   "id": "1a5f1cd8",
   "metadata": {},
   "outputs": [],
   "source": []
  }
 ],
 "metadata": {
  "kernelspec": {
   "display_name": "Python 3",
   "language": "python",
   "name": "python3"
  },
  "language_info": {
   "codemirror_mode": {
    "name": "ipython",
    "version": 3
   },
   "file_extension": ".py",
   "mimetype": "text/x-python",
   "name": "python",
   "nbconvert_exporter": "python",
   "pygments_lexer": "ipython3",
   "version": "3.8.8"
  }
 },
 "nbformat": 4,
 "nbformat_minor": 5
}
