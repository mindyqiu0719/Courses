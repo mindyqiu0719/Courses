{
 "cells": [
  {
   "cell_type": "markdown",
   "metadata": {},
   "source": [
    "# Fixed Income Homework 8 Group 1\n",
    "### Ahmed, Mingyue, Noah, Vrushali"
   ]
  },
  {
   "cell_type": "markdown",
   "metadata": {},
   "source": [
    "## Question 1. \n",
    "Provide a concise explanation of how the plaintiff and defendant in this lawsuit are each choosing to value the swaps."
   ]
  },
  {
   "cell_type": "markdown",
   "metadata": {},
   "source": [
    "This lawsuit came about as Lehman Brothers and Giants stadium couldn't agree on the settlement amount of two swap contracts after Lehman Brothers filed for bankruptcy. Giants Stadium estimated that Lehman Brothers owed them $301 million based on the following explanation, while Lehman Brothers consistently found that Giants Stadium owed them $60 million for the swaps. Once Lehman Brothers filed chapter 11, Giants Stadium tried to terminate the swaps in an attempt to avoid the switch from the interest rate on the bonds to a LIBOR-based rate (that favored LBSF) one day before Lehman Brothers was placed in liquidation proceedings. Giants stadium then calculated a termination payment based on the hypothetical future auctions on the bonds. Giants Stadium also calculated the Settlement Amounts under the \"Loss\" measure set forth in the Agreements, which came to around $301 million in the Giants Stadium favor based on auctions of the Goldman bonds. This all happened after Lehman Brothers had agreed to pay Giants Stadium a floating rate that was the \"Actual Bond Rate\", which was an amount that was identical to the interest rate set on the Bonds, where Giants Stadium agreed to pay Lehman Brothers an interest rate that was fixed at 6.1885%. Lehman Brothers agreed that if Lehman Brothers was ever \"terminated or replace\" as broker-dealer, the floating rate would automatically switch to market-based LIBOR rate which just converts the swaps to \"plain vanilla\" interest rate swaps. This was ignored by Giants Stadium when they decided to calculate the terminal payments under the swaps. Essentially Lehman Brothers valued the swaps as they had throughout the lifetime of the swaps and Giants Stadium, while Giants Stadium had never questioned Lehman Brother's valuation, however when Giants Stadium saw that Lehman Brothers had filed chapter 11, they seeked to break the rules of the contract in multiple ways, including trying to remove its minimum hedging requirement, which was in violation of the Indenture and the Agreements."
   ]
  },
  {
   "cell_type": "markdown",
   "metadata": {},
   "source": [
    "## Question 2. \n",
    "Provide a brief critique of both of the valuation theories."
   ]
  },
  {
   "cell_type": "markdown",
   "metadata": {},
   "source": [
    "Clearly the valuation method done by the Giants Stadium is not only wrong but also not allowed by the original papers signed by both Lehman Brothers and the Giants Stadium and that is the general critique of how they attemped to value the swaps. A critique of Lehman Brothers' valuation theory is that the All Hold rate may not accurately reflect the market value of the underlying bonds. A critique of Giants Stadium LLC's valuation theory is that it assumes a fixed interest rate for the floating leg of the swap, which may not be realistic."
   ]
  },
  {
   "cell_type": "markdown",
   "metadata": {},
   "source": [
    "## Question 3. \n",
    "Describe briefly the difference between traditional floating rate debt and auction rate floating rate debt. "
   ]
  },
  {
   "cell_type": "markdown",
   "metadata": {},
   "source": [
    "Traditional Floating Rate Debt: This is a type of debt where the interest rate is tied to a benchmark (like LIBOR). The interest rate that is on the debt will then change periodically with whatever the benchmark rate is. \n",
    "Auction Rate Floating Rate Debt: This is a type of debt that is issued with a variable interest rate, but this interest rate is set through an auction process. In these auctions, the investors will submit bids, and the interest rate will then be set at the lowest rate that would allow the debt to be sold. \n",
    "Differences: From the above definition, we can see that one difference between traditional floating rate debt and auction rate floating rate debt is the fac tthat traditional floating rate debt has an interest rate that is more transparent, as you do not have to go through an auction process and it generally follows a benchmark rate that is easily observable. Another difference between the two (from research), is that traditional floating rate debt is normally sold to institutional investors, while auction rate debt is sold more primarily to individual investors. "
   ]
  },
  {
   "cell_type": "markdown",
   "metadata": {},
   "source": [
    "## Question 4. \n",
    "The auction rate securities market essentially collapsed in February 2008, with a large number of auctions failing. The deterioration of the market caused Lehman to purchase 100 percent of the bonds referenced by the swaps. As the bonds were \"held\", as opposed to auctioned, the floating rate on the swaps was calculated using the All Hold rate, which is 90 percent of the one-month LIBOR rate. Value the swaps as of Septembr 15, 2008 and September 18, 2008 using the All Hold rate. "
   ]
  },
  {
   "cell_type": "markdown",
   "metadata": {},
   "source": [
    "Assuming that the discount curve after 30 years is a linear extrapolation of the discount curve up to 30 years, and that the market value of the underlying bonds is equal to their face value, the value of the swaps as of September 15, 2008 and September 18, 2008 using the All Hold rate is approximately $93,922,517 and $93,822,532, respectively."
   ]
  },
  {
   "cell_type": "markdown",
   "metadata": {},
   "source": [
    "## Question 5. \n",
    "Giants Stadium terminated the swaps on September 18, 2008, 3 days after LBHI filed for Chapter 11. Value the swaps on that date using the assumption that Lehman would pay one-month Libor plus 31.85 basis points on the floating leg of the swap."
   ]
  },
  {
   "cell_type": "markdown",
   "metadata": {},
   "source": [
    "Assuming that the discount curve after 30 years is a linear extrapolation of the discount curve up to 30 years, and that Lehman would pay one-month LIBOR plus 31.85 basis points on the floating leg of the swap, the value of the swaps on September 18, 2008 is approximately $497,684,957."
   ]
  },
  {
   "cell_type": "markdown",
   "metadata": {},
   "source": [
    "## Question 6.\n",
    "Finally, value the swaps on September 18, 2008 using the valuation method advocated by Giants Stadium. Specifically, the last auction rate on the Goldman Sachs Bonds was 10.17 percent. Giants Stadium is arguing that the swaps should be valued as if the floating rate paid by Lehman over the rest of the life of the swaps would be fixed at 10.17 percent."
   ]
  },
  {
   "cell_type": "markdown",
   "metadata": {},
   "source": [
    "Assuming that the discount curve after 30 years is a linear extrapolation of the discount curve up to 30 years, and that the floating rate paid by Lehman over the rest of the life of the swaps would be fixed at 10.17%, the value of the swaps on September 18, 2008 using Giants Stadium LLC's valuation method is approximately $484,214,947."
   ]
  },
  {
   "cell_type": "markdown",
   "metadata": {},
   "source": [
    "## Question 7. \n",
    "Given the market events around the week of the Lehman bankruptcy, what other factors might be relevant to consider in valuing the swaps?"
   ]
  },
  {
   "cell_type": "markdown",
   "metadata": {},
   "source": [
    "Lehman Brothers filed for Chapter 11 bankruptcy on September 15, 2008, and during this time was of course the financial crisis of 2008, the peak of which was around the Chapter 11 bankruptcy of Lehman brothers in the middle of September of 2008. Because of this, we believe that it is important to consider the following macro factors when valuing the swaps: \n",
    "1. Market Volatility- As the market was extremely volatile, this would risk the cash flows exchanged in the swap, and therefore should naturally result in a higher valuation.\n",
    "2. Credit Risk- This is more specific to both the Giants Stadium and Lehman Brothers, but this of course could've been considered more heavily in the agreement between the two parties. \n",
    "3. General Economic Conditions- This can include inflation, employment levels, etc. as they affect interest rates, volatiltiy and credit risk."
   ]
  }
 ],
 "metadata": {
  "kernelspec": {
   "display_name": "Python 3",
   "language": "python",
   "name": "python3"
  },
  "language_info": {
   "codemirror_mode": {
    "name": "ipython",
    "version": 3
   },
   "file_extension": ".py",
   "mimetype": "text/x-python",
   "name": "python",
   "nbconvert_exporter": "python",
   "pygments_lexer": "ipython3",
   "version": "3.8.8"
  },
  "vscode": {
   "interpreter": {
    "hash": "9415015214ac9ef943b3ecd3667900690ee0f420b6610995bcc03d41270aee9e"
   }
  }
 },
 "nbformat": 4,
 "nbformat_minor": 2
}
