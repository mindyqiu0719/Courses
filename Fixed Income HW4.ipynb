{
 "cells": [
  {
   "cell_type": "markdown",
   "metadata": {},
   "source": [
    "# Fixed Income HW4\n",
    "Cohort1 Group1-Ahmed Khwaja, Mingyue Qiu, Noah Sutherland, Vrushali Behara"
   ]
  },
  {
   "cell_type": "code",
   "execution_count": 1,
   "metadata": {},
   "outputs": [],
   "source": [
    "import pandas as pd\n",
    "import numpy as np\n",
    "import warnings\n",
    "warnings.simplefilter(action='ignore', category=FutureWarning)\n",
    "\n",
    "data=pd.read_excel('Homework_4_Data_Paths.xlsx')"
   ]
  },
  {
   "cell_type": "markdown",
   "metadata": {},
   "source": [
    "1. Compute the average short-term interest rate over each path over the next ten years (don’t forget to include the current value in the average) and use these values to solve for the current prices of zero-coupon bonds with maturities ranging from one to ten years (D(1),D(2),D(3), . . . ,D(10))."
   ]
  },
  {
   "cell_type": "code",
   "execution_count": 2,
   "metadata": {},
   "outputs": [
    {
     "data": {
      "text/html": [
       "<div>\n",
       "<style scoped>\n",
       "    .dataframe tbody tr th:only-of-type {\n",
       "        vertical-align: middle;\n",
       "    }\n",
       "\n",
       "    .dataframe tbody tr th {\n",
       "        vertical-align: top;\n",
       "    }\n",
       "\n",
       "    .dataframe thead th {\n",
       "        text-align: right;\n",
       "    }\n",
       "</style>\n",
       "<table border=\"1\" class=\"dataframe\">\n",
       "  <thead>\n",
       "    <tr style=\"text-align: right;\">\n",
       "      <th></th>\n",
       "      <th>T</th>\n",
       "      <th>DT</th>\n",
       "    </tr>\n",
       "  </thead>\n",
       "  <tbody>\n",
       "    <tr>\n",
       "      <th>0</th>\n",
       "      <td>0</td>\n",
       "      <td>1.000000</td>\n",
       "    </tr>\n",
       "    <tr>\n",
       "      <th>1</th>\n",
       "      <td>1</td>\n",
       "      <td>0.968848</td>\n",
       "    </tr>\n",
       "    <tr>\n",
       "      <th>2</th>\n",
       "      <td>2</td>\n",
       "      <td>0.936725</td>\n",
       "    </tr>\n",
       "    <tr>\n",
       "      <th>3</th>\n",
       "      <td>3</td>\n",
       "      <td>0.904764</td>\n",
       "    </tr>\n",
       "    <tr>\n",
       "      <th>4</th>\n",
       "      <td>4</td>\n",
       "      <td>0.873446</td>\n",
       "    </tr>\n",
       "    <tr>\n",
       "      <th>5</th>\n",
       "      <td>5</td>\n",
       "      <td>0.843000</td>\n",
       "    </tr>\n",
       "    <tr>\n",
       "      <th>6</th>\n",
       "      <td>6</td>\n",
       "      <td>0.813496</td>\n",
       "    </tr>\n",
       "    <tr>\n",
       "      <th>7</th>\n",
       "      <td>7</td>\n",
       "      <td>0.784974</td>\n",
       "    </tr>\n",
       "    <tr>\n",
       "      <th>8</th>\n",
       "      <td>8</td>\n",
       "      <td>0.757398</td>\n",
       "    </tr>\n",
       "    <tr>\n",
       "      <th>9</th>\n",
       "      <td>9</td>\n",
       "      <td>0.730767</td>\n",
       "    </tr>\n",
       "    <tr>\n",
       "      <th>10</th>\n",
       "      <td>10</td>\n",
       "      <td>0.705043</td>\n",
       "    </tr>\n",
       "  </tbody>\n",
       "</table>\n",
       "</div>"
      ],
      "text/plain": [
       "     T        DT\n",
       "0    0  1.000000\n",
       "1    1  0.968848\n",
       "2    2  0.936725\n",
       "3    3  0.904764\n",
       "4    4  0.873446\n",
       "5    5  0.843000\n",
       "6    6  0.813496\n",
       "7    7  0.784974\n",
       "8    8  0.757398\n",
       "9    9  0.730767\n",
       "10  10  0.705043"
      ]
     },
     "execution_count": 2,
     "metadata": {},
     "output_type": "execute_result"
    }
   ],
   "source": [
    "avg_rate=data.expanding(axis=1).mean()\n",
    "df=pd.DataFrame(data={'T':range(avg_rate.shape[1]),\n",
    "'DT':[sum(np.exp(-avg_rate.iloc[:,T]*T))/len(avg_rate) for T in range(avg_rate.shape[1])]})\n",
    "\n",
    "df"
   ]
  },
  {
   "cell_type": "markdown",
   "metadata": {},
   "source": [
    "2. Solve for the price of a five-year interest rate cap on the short-term rate with a strike rate of .037. An interest rate cap consists of a series of five individual caplets, one for each of the five annual dates. The cash flow for a caplet with maturity T is max(0, rT −K), where rT is the short-term rate at time T and K is the strike rate."
   ]
  },
  {
   "cell_type": "code",
   "execution_count": 3,
   "metadata": {},
   "outputs": [
    {
     "data": {
      "text/plain": [
       "0.009861150843734547"
      ]
     },
     "execution_count": 3,
     "metadata": {},
     "output_type": "execute_result"
    }
   ],
   "source": [
    "PV=0\n",
    "for T in range(1,6):\n",
    "    cap=0\n",
    "    for i in range(len(avg_rate)):\n",
    "        cap+=max(data.iloc[i,T]-0.037,0)*np.exp(-avg_rate.iloc[i,T]*T)\n",
    "    PV+=cap/200\n",
    "\n",
    "PV"
   ]
  },
  {
   "cell_type": "markdown",
   "metadata": {},
   "source": [
    "3. Solve for the price of a five-year interest rate floor on the short-term rate with a strike rate of .020. A floor consists of a series of five individual floorlets, one for each of the five annual dates. The cash flow for a floorlet with maturity T is max(0,K − rT ) using the same notation as in problem 2."
   ]
  },
  {
   "cell_type": "code",
   "execution_count": 4,
   "metadata": {},
   "outputs": [
    {
     "data": {
      "text/plain": [
       "0.00027379026769038775"
      ]
     },
     "execution_count": 4,
     "metadata": {},
     "output_type": "execute_result"
    }
   ],
   "source": [
    "PV=0\n",
    "for T in range(1,6):\n",
    "    cap=0\n",
    "    for i in range(len(avg_rate)):\n",
    "        cap+=max(0.02-data.iloc[i,T],0)*np.exp(-avg_rate.iloc[i,T]*T)\n",
    "    PV+=cap/200\n",
    "\n",
    "PV"
   ]
  },
  {
   "cell_type": "markdown",
   "metadata": {},
   "source": [
    "4. Solve for the price of a 10-year range accrual note. This is a note with a notional of $100. Each year, the note pays a coupon equal to the short-term rate (set at the end of the year) provided the short-term rate is between 2 and 4 percent, otherwise it pays nothing."
   ]
  },
  {
   "cell_type": "code",
   "execution_count": 5,
   "metadata": {},
   "outputs": [
    {
     "data": {
      "text/plain": [
       "18.49890238248295"
      ]
     },
     "execution_count": 5,
     "metadata": {},
     "output_type": "execute_result"
    }
   ],
   "source": [
    "PV=0\n",
    "for T in range(1,11):\n",
    "    cap=0\n",
    "    for i in range(len(avg_rate)):\n",
    "        if 0.02 < data.iloc[i, T] < 0.04:\n",
    "            cap+=data.iloc[i,T]*np.exp(-avg_rate.iloc[i,T]*T)*100\n",
    "        else:\n",
    "            cap+=0\n",
    "    #print(i,T,cap)\n",
    "    PV+=cap/200\n",
    "\n",
    "PV"
   ]
  },
  {
   "cell_type": "markdown",
   "metadata": {},
   "source": [
    "5. Solve for the price of a five-year inverse floater with a notional amount of \\\\$100 that pays two times the shortterm rate (set at the beginning of each year) minus 6 percent. Thus, if the short-term rate is 4 percent at the beginning of a year, the cash flow at the end of the year would be 2 × 4 - 6 = 2 per \\$100 notional."
   ]
  },
  {
   "cell_type": "code",
   "execution_count": 6,
   "metadata": {},
   "outputs": [
    {
     "data": {
      "text/plain": [
       "3.3499410873263127"
      ]
     },
     "execution_count": 6,
     "metadata": {},
     "output_type": "execute_result"
    }
   ],
   "source": [
    "PV=0\n",
    "for T in range(1,6):\n",
    "    cap=0\n",
    "    for i in range(len(avg_rate)):\n",
    "        r=data.iloc[i,T-1]*2-0.06\n",
    "        cap+=r*np.exp(-avg_rate.iloc[i,T]*T)*100\n",
    "\n",
    "    PV+=cap/200\n",
    "\n",
    "PV"
   ]
  },
  {
   "cell_type": "markdown",
   "metadata": {},
   "source": [
    "6. Which is more valuable? A five-year European call option (caplet) on the short-term interest rate or a five-year European call option on the average short-term interest rate during the five years? Assume that the strike rate is 0.04."
   ]
  },
  {
   "cell_type": "code",
   "execution_count": 7,
   "metadata": {},
   "outputs": [
    {
     "name": "stdout",
     "output_type": "stream",
     "text": [
      "European call option (caplet) on the short-term interest rate:0.001392217490921983\n",
      "European call option on the average short-term interest rate:0.000135188104436079\n"
     ]
    }
   ],
   "source": [
    "PV1,PV2=0,0\n",
    "T=5\n",
    "for i in range(len(avg_rate)):\n",
    "    PV1+=max(data.iloc[i,T]-0.04,0)*np.exp(-avg_rate.iloc[i,T]*T)\n",
    "    PV2+=max(avg_rate.iloc[i,T]-0.04,0)*np.exp(-avg_rate.iloc[i,T]*T)\n",
    "PV1=PV1/200\n",
    "PV2=PV2/200\n",
    "# European call option (caplet) on the short-term interest rate\n",
    "print(f'European call option (caplet) on the short-term interest rate:{PV1}\\nEuropean call option on the average short-term interest rate:{PV2}')"
   ]
  }
 ],
 "metadata": {
  "kernelspec": {
   "display_name": "Python 3",
   "language": "python",
   "name": "python3"
  },
  "language_info": {
   "codemirror_mode": {
    "name": "ipython",
    "version": 3
   },
   "file_extension": ".py",
   "mimetype": "text/x-python",
   "name": "python",
   "nbconvert_exporter": "python",
   "pygments_lexer": "ipython3",
   "version": "3.8.8"
  }
 },
 "nbformat": 4,
 "nbformat_minor": 1
}
